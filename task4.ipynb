{
 "cells": [
  {
   "cell_type": "markdown",
   "metadata": {},
   "source": [
    "# Stock market prediction using historical and textual analysis"
   ]
  },
  {
   "cell_type": "code",
   "execution_count": 3,
   "metadata": {},
   "outputs": [],
   "source": [
    "#importing liabraries\n",
    "import numpy as np \n",
    "import pandas as pd\n",
    "import matplotlib.pyplot as plt\n",
    "from pandas.plotting import lag_plot\n",
    "from pandas import datetime\n",
    "from statsmodels.tsa.arima_model import ARIMA\n",
    "from sklearn.metrics import mean_absolute_error,mean_squared_error\n",
    "from math import sqrt\n",
    "import math\n",
    "import seaborn as sns\n"
   ]
  },
  {
   "cell_type": "code",
   "execution_count": 4,
   "metadata": {},
   "outputs": [
    {
     "data": {
      "text/html": [
       "<div>\n",
       "<style scoped>\n",
       "    .dataframe tbody tr th:only-of-type {\n",
       "        vertical-align: middle;\n",
       "    }\n",
       "\n",
       "    .dataframe tbody tr th {\n",
       "        vertical-align: top;\n",
       "    }\n",
       "\n",
       "    .dataframe thead th {\n",
       "        text-align: right;\n",
       "    }\n",
       "</style>\n",
       "<table border=\"1\" class=\"dataframe\">\n",
       "  <thead>\n",
       "    <tr style=\"text-align: right;\">\n",
       "      <th></th>\n",
       "      <th>Date</th>\n",
       "      <th>Open</th>\n",
       "      <th>High</th>\n",
       "      <th>Low</th>\n",
       "      <th>Close</th>\n",
       "      <th>Adj Close</th>\n",
       "      <th>Volume</th>\n",
       "    </tr>\n",
       "  </thead>\n",
       "  <tbody>\n",
       "    <tr>\n",
       "      <td>0</td>\n",
       "      <td>2001-01-02</td>\n",
       "      <td>1320.280029</td>\n",
       "      <td>1320.280029</td>\n",
       "      <td>1276.050049</td>\n",
       "      <td>1283.270020</td>\n",
       "      <td>1283.270020</td>\n",
       "      <td>1129400000</td>\n",
       "    </tr>\n",
       "    <tr>\n",
       "      <td>1</td>\n",
       "      <td>2001-01-03</td>\n",
       "      <td>1283.270020</td>\n",
       "      <td>1347.760010</td>\n",
       "      <td>1274.619995</td>\n",
       "      <td>1347.560059</td>\n",
       "      <td>1347.560059</td>\n",
       "      <td>1880700000</td>\n",
       "    </tr>\n",
       "    <tr>\n",
       "      <td>2</td>\n",
       "      <td>2001-01-04</td>\n",
       "      <td>1347.560059</td>\n",
       "      <td>1350.239990</td>\n",
       "      <td>1329.140015</td>\n",
       "      <td>1333.339966</td>\n",
       "      <td>1333.339966</td>\n",
       "      <td>2131000000</td>\n",
       "    </tr>\n",
       "    <tr>\n",
       "      <td>3</td>\n",
       "      <td>2001-01-05</td>\n",
       "      <td>1333.339966</td>\n",
       "      <td>1334.770020</td>\n",
       "      <td>1294.949951</td>\n",
       "      <td>1298.349976</td>\n",
       "      <td>1298.349976</td>\n",
       "      <td>1430800000</td>\n",
       "    </tr>\n",
       "    <tr>\n",
       "      <td>4</td>\n",
       "      <td>2001-01-08</td>\n",
       "      <td>1298.349976</td>\n",
       "      <td>1298.349976</td>\n",
       "      <td>1276.290039</td>\n",
       "      <td>1295.859985</td>\n",
       "      <td>1295.859985</td>\n",
       "      <td>1115500000</td>\n",
       "    </tr>\n",
       "    <tr>\n",
       "      <td>...</td>\n",
       "      <td>...</td>\n",
       "      <td>...</td>\n",
       "      <td>...</td>\n",
       "      <td>...</td>\n",
       "      <td>...</td>\n",
       "      <td>...</td>\n",
       "      <td>...</td>\n",
       "    </tr>\n",
       "    <tr>\n",
       "      <td>4975</td>\n",
       "      <td>2020-10-12</td>\n",
       "      <td>3500.020020</td>\n",
       "      <td>3549.850098</td>\n",
       "      <td>3499.610107</td>\n",
       "      <td>3534.219971</td>\n",
       "      <td>3534.219971</td>\n",
       "      <td>3428970000</td>\n",
       "    </tr>\n",
       "    <tr>\n",
       "      <td>4976</td>\n",
       "      <td>2020-10-13</td>\n",
       "      <td>3534.010010</td>\n",
       "      <td>3534.010010</td>\n",
       "      <td>3500.860107</td>\n",
       "      <td>3511.929932</td>\n",
       "      <td>3511.929932</td>\n",
       "      <td>3605150000</td>\n",
       "    </tr>\n",
       "    <tr>\n",
       "      <td>4977</td>\n",
       "      <td>2020-10-14</td>\n",
       "      <td>3515.469971</td>\n",
       "      <td>3527.939941</td>\n",
       "      <td>3480.550049</td>\n",
       "      <td>3488.669922</td>\n",
       "      <td>3488.669922</td>\n",
       "      <td>3840630000</td>\n",
       "    </tr>\n",
       "    <tr>\n",
       "      <td>4978</td>\n",
       "      <td>2020-10-15</td>\n",
       "      <td>3453.719971</td>\n",
       "      <td>3489.080078</td>\n",
       "      <td>3440.889893</td>\n",
       "      <td>3483.340088</td>\n",
       "      <td>3483.340088</td>\n",
       "      <td>3717640000</td>\n",
       "    </tr>\n",
       "    <tr>\n",
       "      <td>4979</td>\n",
       "      <td>2020-10-16</td>\n",
       "      <td>3493.500000</td>\n",
       "      <td>3515.760010</td>\n",
       "      <td>3480.449951</td>\n",
       "      <td>3483.810059</td>\n",
       "      <td>3483.810059</td>\n",
       "      <td>4675890000</td>\n",
       "    </tr>\n",
       "  </tbody>\n",
       "</table>\n",
       "<p>4980 rows × 7 columns</p>\n",
       "</div>"
      ],
      "text/plain": [
       "            Date         Open         High          Low        Close  \\\n",
       "0     2001-01-02  1320.280029  1320.280029  1276.050049  1283.270020   \n",
       "1     2001-01-03  1283.270020  1347.760010  1274.619995  1347.560059   \n",
       "2     2001-01-04  1347.560059  1350.239990  1329.140015  1333.339966   \n",
       "3     2001-01-05  1333.339966  1334.770020  1294.949951  1298.349976   \n",
       "4     2001-01-08  1298.349976  1298.349976  1276.290039  1295.859985   \n",
       "...          ...          ...          ...          ...          ...   \n",
       "4975  2020-10-12  3500.020020  3549.850098  3499.610107  3534.219971   \n",
       "4976  2020-10-13  3534.010010  3534.010010  3500.860107  3511.929932   \n",
       "4977  2020-10-14  3515.469971  3527.939941  3480.550049  3488.669922   \n",
       "4978  2020-10-15  3453.719971  3489.080078  3440.889893  3483.340088   \n",
       "4979  2020-10-16  3493.500000  3515.760010  3480.449951  3483.810059   \n",
       "\n",
       "        Adj Close      Volume  \n",
       "0     1283.270020  1129400000  \n",
       "1     1347.560059  1880700000  \n",
       "2     1333.339966  2131000000  \n",
       "3     1298.349976  1430800000  \n",
       "4     1295.859985  1115500000  \n",
       "...           ...         ...  \n",
       "4975  3534.219971  3428970000  \n",
       "4976  3511.929932  3605150000  \n",
       "4977  3488.669922  3840630000  \n",
       "4978  3483.340088  3717640000  \n",
       "4979  3483.810059  4675890000  \n",
       "\n",
       "[4980 rows x 7 columns]"
      ]
     },
     "execution_count": 4,
     "metadata": {},
     "output_type": "execute_result"
    }
   ],
   "source": [
    "df=pd.read_csv(\"GSPC.csv\")\n",
    "df"
   ]
  },
  {
   "cell_type": "code",
   "execution_count": 5,
   "metadata": {},
   "outputs": [
    {
     "data": {
      "text/html": [
       "<div>\n",
       "<style scoped>\n",
       "    .dataframe tbody tr th:only-of-type {\n",
       "        vertical-align: middle;\n",
       "    }\n",
       "\n",
       "    .dataframe tbody tr th {\n",
       "        vertical-align: top;\n",
       "    }\n",
       "\n",
       "    .dataframe thead th {\n",
       "        text-align: right;\n",
       "    }\n",
       "</style>\n",
       "<table border=\"1\" class=\"dataframe\">\n",
       "  <thead>\n",
       "    <tr style=\"text-align: right;\">\n",
       "      <th></th>\n",
       "      <th>Open</th>\n",
       "      <th>High</th>\n",
       "      <th>Low</th>\n",
       "      <th>Close</th>\n",
       "      <th>Adj Close</th>\n",
       "      <th>Volume</th>\n",
       "    </tr>\n",
       "  </thead>\n",
       "  <tbody>\n",
       "    <tr>\n",
       "      <td>count</td>\n",
       "      <td>4980.000000</td>\n",
       "      <td>4980.000000</td>\n",
       "      <td>4980.000000</td>\n",
       "      <td>4980.000000</td>\n",
       "      <td>4980.000000</td>\n",
       "      <td>4.980000e+03</td>\n",
       "    </tr>\n",
       "    <tr>\n",
       "      <td>mean</td>\n",
       "      <td>1644.797604</td>\n",
       "      <td>1654.172952</td>\n",
       "      <td>1634.592972</td>\n",
       "      <td>1645.017200</td>\n",
       "      <td>1645.017200</td>\n",
       "      <td>3.272782e+09</td>\n",
       "    </tr>\n",
       "    <tr>\n",
       "      <td>std</td>\n",
       "      <td>663.867441</td>\n",
       "      <td>665.903384</td>\n",
       "      <td>661.494154</td>\n",
       "      <td>663.946038</td>\n",
       "      <td>663.946038</td>\n",
       "      <td>1.474020e+09</td>\n",
       "    </tr>\n",
       "    <tr>\n",
       "      <td>min</td>\n",
       "      <td>679.280029</td>\n",
       "      <td>695.270020</td>\n",
       "      <td>666.789978</td>\n",
       "      <td>676.530029</td>\n",
       "      <td>676.530029</td>\n",
       "      <td>3.560700e+08</td>\n",
       "    </tr>\n",
       "    <tr>\n",
       "      <td>25%</td>\n",
       "      <td>1148.999970</td>\n",
       "      <td>1157.667480</td>\n",
       "      <td>1140.119995</td>\n",
       "      <td>1149.467499</td>\n",
       "      <td>1149.467499</td>\n",
       "      <td>2.076878e+09</td>\n",
       "    </tr>\n",
       "    <tr>\n",
       "      <td>50%</td>\n",
       "      <td>1363.604981</td>\n",
       "      <td>1369.195007</td>\n",
       "      <td>1355.225036</td>\n",
       "      <td>1364.110046</td>\n",
       "      <td>1364.110046</td>\n",
       "      <td>3.337025e+09</td>\n",
       "    </tr>\n",
       "    <tr>\n",
       "      <td>75%</td>\n",
       "      <td>2078.070007</td>\n",
       "      <td>2085.909912</td>\n",
       "      <td>2067.010010</td>\n",
       "      <td>2079.115051</td>\n",
       "      <td>2079.115051</td>\n",
       "      <td>4.038788e+09</td>\n",
       "    </tr>\n",
       "    <tr>\n",
       "      <td>max</td>\n",
       "      <td>3564.739990</td>\n",
       "      <td>3588.110107</td>\n",
       "      <td>3535.229980</td>\n",
       "      <td>3580.840088</td>\n",
       "      <td>3580.840088</td>\n",
       "      <td>1.145623e+10</td>\n",
       "    </tr>\n",
       "  </tbody>\n",
       "</table>\n",
       "</div>"
      ],
      "text/plain": [
       "              Open         High          Low        Close    Adj Close  \\\n",
       "count  4980.000000  4980.000000  4980.000000  4980.000000  4980.000000   \n",
       "mean   1644.797604  1654.172952  1634.592972  1645.017200  1645.017200   \n",
       "std     663.867441   665.903384   661.494154   663.946038   663.946038   \n",
       "min     679.280029   695.270020   666.789978   676.530029   676.530029   \n",
       "25%    1148.999970  1157.667480  1140.119995  1149.467499  1149.467499   \n",
       "50%    1363.604981  1369.195007  1355.225036  1364.110046  1364.110046   \n",
       "75%    2078.070007  2085.909912  2067.010010  2079.115051  2079.115051   \n",
       "max    3564.739990  3588.110107  3535.229980  3580.840088  3580.840088   \n",
       "\n",
       "             Volume  \n",
       "count  4.980000e+03  \n",
       "mean   3.272782e+09  \n",
       "std    1.474020e+09  \n",
       "min    3.560700e+08  \n",
       "25%    2.076878e+09  \n",
       "50%    3.337025e+09  \n",
       "75%    4.038788e+09  \n",
       "max    1.145623e+10  "
      ]
     },
     "execution_count": 5,
     "metadata": {},
     "output_type": "execute_result"
    }
   ],
   "source": [
    "df.describe()"
   ]
  },
  {
   "cell_type": "code",
   "execution_count": 7,
   "metadata": {},
   "outputs": [
    {
     "data": {
      "text/plain": [
       "<matplotlib.legend.Legend at 0x249148ce688>"
      ]
     },
     "execution_count": 7,
     "metadata": {},
     "output_type": "execute_result"
    },
    {
     "data": {
      "image/png": "[encoded data removed]",
      "text/plain": [
       "<Figure size 432x288 with 1 Axes>"
      ]
     },
     "metadata": {
      "needs_background": "light"
     },
     "output_type": "display_data"
    }
   ],
   "source": [
    "#train & test\n",
    "\n",
    "train_data, test_data = df[:int(len(df)*0.9)], df[int(len(df)*0.9):]\n",
    "plt.grid(True)\n",
    "plt.xlabel('Dates')\n",
    "plt.ylabel('Closing Prices')\n",
    "plt.plot(df['Close'], 'green', label= 'train data')\n",
    "plt.plot(test_data['Close'], 'yellow', label= 'Test data')\n",
    "plt.legend()"
   ]
  },
  {
   "cell_type": "code",
   "execution_count": 8,
   "metadata": {},
   "outputs": [
    {
     "name": "stdout",
     "output_type": "stream",
     "text": [
      "                             ARIMA Model Results                              \n",
      "==============================================================================\n",
      "Dep. Variable:                D.Close   No. Observations:                 4481\n",
      "Model:                 ARIMA(0, 1, 1)   Log Likelihood              -18567.612\n",
      "Method:                       css-mle   S.D. of innovations             15.252\n",
      "Date:                Tue, 20 Oct 2020   AIC                          37141.224\n",
      "Time:                        11:31:45   BIC                          37160.447\n",
      "Sample:                             1   HQIC                         37147.999\n",
      "                                                                              \n",
      "=================================================================================\n",
      "                    coef    std err          z      P>|z|      [0.025      0.975]\n",
      "---------------------------------------------------------------------------------\n",
      "const             0.3067      0.213      1.441      0.150      -0.110       0.724\n",
      "ma.L1.D.Close    -0.0661      0.016     -4.222      0.000      -0.097      -0.035\n",
      "                                    Roots                                    \n",
      "=============================================================================\n",
      "                  Real          Imaginary           Modulus         Frequency\n",
      "-----------------------------------------------------------------------------\n",
      "MA.1           15.1268           +0.0000j           15.1268            0.0000\n",
      "-----------------------------------------------------------------------------\n"
     ]
    }
   ],
   "source": [
    "#arima\n",
    "model = ARIMA(train_data['Close'], order=(0,1,1))  \n",
    "fitted = model.fit(disp=-1)  \n",
    "print(fitted.summary())"
   ]
  },
  {
   "cell_type": "code",
   "execution_count": 10,
   "metadata": {},
   "outputs": [
    {
     "data": {
      "image/png": "[encoded data removed]",
      "text/plain": [
       "<Figure size 432x288 with 1 Axes>"
      ]
     },
     "metadata": {
      "needs_background": "light"
     },
     "output_type": "display_data"
    }
   ],
   "source": [
    "#prediction\n",
    "fc, se, conf = fitted.forecast(498, alpha=0.05)  # 95% confidence\n",
    "fc_series = pd.Series(fc, index=test_data.index)\n",
    "lower_series = pd.Series(conf[:, 0], index=test_data.index)\n",
    "upper_series = pd.Series(conf[:, 1], index=test_data.index)\n",
    "plt.plot(train_data['Close'], label='training')\n",
    "plt.plot(test_data['Close'], color = 'red', label='Actual Stock Price')\n",
    "plt.plot(fc_series, color = 'green',label='Predicted Stock Price')\n",
    "plt.fill_between(lower_series.index, lower_series, upper_series, \n",
    "                 color='k', alpha=.10)\n",
    "plt.title('BSE Sensex Stock Price Prediction')\n",
    "plt.xlabel('Time')\n",
    "plt.ylabel('Actual Stock Price')\n",
    "plt.legend(loc='upper left', fontsize=8)\n",
    "plt.show()"
   ]
  },
  {
   "cell_type": "code",
   "execution_count": 11,
   "metadata": {},
   "outputs": [
    {
     "name": "stdout",
     "output_type": "stream",
     "text": [
      "MSE: 107536.746902914\n",
      "MAE: 272.76243899844286\n",
      "RMSE: 327.9279599285703\n",
      "MAPE: 0.08809244241883206\n"
     ]
    }
   ],
   "source": [
    "# Performance report\n",
    "mse = mean_squared_error(test_data['Close'], fc)\n",
    "print('MSE: '+str(mse))\n",
    "mae = mean_absolute_error(test_data['Close'], fc)\n",
    "print('MAE: '+str(mae))\n",
    "rmse = math.sqrt(mean_squared_error(test_data['Close'], fc))\n",
    "print('RMSE: '+str(rmse))\n",
    "mape = np.mean(np.abs(fc - test_data['Close'])/np.abs(test_data['Close']))\n",
    "print('MAPE: '+str(mape))"
   ]
  },
  {
   "cell_type": "code",
   "execution_count": 12,
   "metadata": {},
   "outputs": [
    {
     "name": "stderr",
     "output_type": "stream",
     "text": [
      "[nltk_data] Downloading package punkt to\n",
      "[nltk_data]     C:\\Users\\alipta\\AppData\\Roaming\\nltk_data...\n",
      "[nltk_data]   Unzipping tokenizers\\punkt.zip.\n",
      "[nltk_data] Downloading package wordnet to\n",
      "[nltk_data]     C:\\Users\\alipta\\AppData\\Roaming\\nltk_data...\n",
      "[nltk_data]   Unzipping corpora\\wordnet.zip.\n",
      "[nltk_data] Downloading package vader_lexicon to\n",
      "[nltk_data]     C:\\Users\\alipta\\AppData\\Roaming\\nltk_data...\n"
     ]
    },
    {
     "data": {
      "text/plain": [
       "True"
      ]
     },
     "execution_count": 12,
     "metadata": {},
     "output_type": "execute_result"
    }
   ],
   "source": [
    "from datetime import datetime\n",
    "import string\n",
    "import re\n",
    "import nltk\n",
    "nltk.download('punkt')\n",
    "nltk.download('wordnet')\n",
    "nltk.download('vader_lexicon')"
   ]
  },
  {
   "cell_type": "code",
   "execution_count": 14,
   "metadata": {},
   "outputs": [
    {
     "name": "stdout",
     "output_type": "stream",
     "text": [
      "Collecting pandas-datareader\n",
      "  Downloading https://files.pythonhosted.org/packages/22/f1/a02eea03628865c3d4c29849cda8c8a73f43358048aee47d79dfbfa6c6c3/pandas_datareader-0.9.0-py3-none-any.whl (107kB)\n",
      "Requirement already satisfied: pandas>=0.23 in c:\\programdata\\anaconda3\\lib\\site-packages (from pandas-datareader) (0.25.1)\n",
      "Requirement already satisfied: lxml in c:\\programdata\\anaconda3\\lib\\site-packages (from pandas-datareader) (4.4.1)\n",
      "Requirement already satisfied: requests>=2.19.0 in c:\\programdata\\anaconda3\\lib\\site-packages (from pandas-datareader) (2.22.0)\n",
      "Requirement already satisfied: numpy>=1.13.3 in c:\\programdata\\anaconda3\\lib\\site-packages (from pandas>=0.23->pandas-datareader) (1.16.5)\n",
      "Requirement already satisfied: pytz>=2017.2 in c:\\programdata\\anaconda3\\lib\\site-packages (from pandas>=0.23->pandas-datareader) (2019.3)\n",
      "Requirement already satisfied: python-dateutil>=2.6.1 in c:\\programdata\\anaconda3\\lib\\site-packages (from pandas>=0.23->pandas-datareader) (2.8.0)\n",
      "Requirement already satisfied: urllib3!=1.25.0,!=1.25.1,<1.26,>=1.21.1 in c:\\programdata\\anaconda3\\lib\\site-packages (from requests>=2.19.0->pandas-datareader) (1.24.2)\n",
      "Requirement already satisfied: idna<2.9,>=2.5 in c:\\programdata\\anaconda3\\lib\\site-packages (from requests>=2.19.0->pandas-datareader) (2.8)\n",
      "Requirement already satisfied: chardet<3.1.0,>=3.0.2 in c:\\programdata\\anaconda3\\lib\\site-packages (from requests>=2.19.0->pandas-datareader) (3.0.4)\n",
      "Requirement already satisfied: certifi>=2017.4.17 in c:\\programdata\\anaconda3\\lib\\site-packages (from requests>=2.19.0->pandas-datareader) (2019.9.11)\n",
      "Requirement already satisfied: six>=1.5 in c:\\programdata\\anaconda3\\lib\\site-packages (from python-dateutil>=2.6.1->pandas>=0.23->pandas-datareader) (1.12.0)\n",
      "Installing collected packages: pandas-datareader\n",
      "Successfully installed pandas-datareader-0.9.0\n",
      "Note: you may need to restart the kernel to use updated packages.\n"
     ]
    }
   ],
   "source": [
    "pip install pandas-datareader"
   ]
  },
  {
   "cell_type": "code",
   "execution_count": 15,
   "metadata": {},
   "outputs": [],
   "source": [
    "import datetime\n",
    "import pandas_datareader.data as web\n",
    "from pandas import Series, DataFrame"
   ]
  },
  {
   "cell_type": "code",
   "execution_count": 19,
   "metadata": {},
   "outputs": [
    {
     "data": {
      "text/html": [
       "<div>\n",
       "<style scoped>\n",
       "    .dataframe tbody tr th:only-of-type {\n",
       "        vertical-align: middle;\n",
       "    }\n",
       "\n",
       "    .dataframe tbody tr th {\n",
       "        vertical-align: top;\n",
       "    }\n",
       "\n",
       "    .dataframe thead th {\n",
       "        text-align: right;\n",
       "    }\n",
       "</style>\n",
       "<table border=\"1\" class=\"dataframe\">\n",
       "  <thead>\n",
       "    <tr style=\"text-align: right;\">\n",
       "      <th></th>\n",
       "      <th>publish_date</th>\n",
       "      <th>headline_category</th>\n",
       "      <th>headline_text</th>\n",
       "    </tr>\n",
       "  </thead>\n",
       "  <tbody>\n",
       "    <tr>\n",
       "      <td>0</td>\n",
       "      <td>20010101</td>\n",
       "      <td>sports.wwe</td>\n",
       "      <td>win over cena satisfying but defeating underta...</td>\n",
       "    </tr>\n",
       "    <tr>\n",
       "      <td>1</td>\n",
       "      <td>20010102</td>\n",
       "      <td>unknown</td>\n",
       "      <td>Status quo will not be disturbed at Ayodhya; s...</td>\n",
       "    </tr>\n",
       "    <tr>\n",
       "      <td>2</td>\n",
       "      <td>20010102</td>\n",
       "      <td>unknown</td>\n",
       "      <td>Fissures in Hurriyat over Pak visit</td>\n",
       "    </tr>\n",
       "    <tr>\n",
       "      <td>3</td>\n",
       "      <td>20010102</td>\n",
       "      <td>unknown</td>\n",
       "      <td>America's unwanted heading for India?</td>\n",
       "    </tr>\n",
       "    <tr>\n",
       "      <td>4</td>\n",
       "      <td>20010102</td>\n",
       "      <td>unknown</td>\n",
       "      <td>For bigwigs; it is destination Goa</td>\n",
       "    </tr>\n",
       "    <tr>\n",
       "      <td>...</td>\n",
       "      <td>...</td>\n",
       "      <td>...</td>\n",
       "      <td>...</td>\n",
       "    </tr>\n",
       "    <tr>\n",
       "      <td>3297167</td>\n",
       "      <td>20200630</td>\n",
       "      <td>gadgets-news</td>\n",
       "      <td>why tiktok removed 1 65 crore videos in india</td>\n",
       "    </tr>\n",
       "    <tr>\n",
       "      <td>3297168</td>\n",
       "      <td>20200630</td>\n",
       "      <td>entertainment.hindi.bollywood</td>\n",
       "      <td>apurva asrani calls alia bhatts mother soni ra...</td>\n",
       "    </tr>\n",
       "    <tr>\n",
       "      <td>3297169</td>\n",
       "      <td>20200630</td>\n",
       "      <td>entertainment.hindi.bollywood</td>\n",
       "      <td>kangana ranaut gets a doll version of herself ...</td>\n",
       "    </tr>\n",
       "    <tr>\n",
       "      <td>3297170</td>\n",
       "      <td>20200630</td>\n",
       "      <td>entertainment.hindi.bollywood</td>\n",
       "      <td>meezaan jaffrey reminisces his childhood days ...</td>\n",
       "    </tr>\n",
       "    <tr>\n",
       "      <td>3297171</td>\n",
       "      <td>20200630</td>\n",
       "      <td>entertainment.telugu.movies.news</td>\n",
       "      <td>prabhas20 titled as radhe shyam prabhas and po...</td>\n",
       "    </tr>\n",
       "  </tbody>\n",
       "</table>\n",
       "<p>3297172 rows × 3 columns</p>\n",
       "</div>"
      ],
      "text/plain": [
       "         publish_date                 headline_category  \\\n",
       "0            20010101                        sports.wwe   \n",
       "1            20010102                           unknown   \n",
       "2            20010102                           unknown   \n",
       "3            20010102                           unknown   \n",
       "4            20010102                           unknown   \n",
       "...               ...                               ...   \n",
       "3297167      20200630                      gadgets-news   \n",
       "3297168      20200630     entertainment.hindi.bollywood   \n",
       "3297169      20200630     entertainment.hindi.bollywood   \n",
       "3297170      20200630     entertainment.hindi.bollywood   \n",
       "3297171      20200630  entertainment.telugu.movies.news   \n",
       "\n",
       "                                             headline_text  \n",
       "0        win over cena satisfying but defeating underta...  \n",
       "1        Status quo will not be disturbed at Ayodhya; s...  \n",
       "2                      Fissures in Hurriyat over Pak visit  \n",
       "3                    America's unwanted heading for India?  \n",
       "4                       For bigwigs; it is destination Goa  \n",
       "...                                                    ...  \n",
       "3297167      why tiktok removed 1 65 crore videos in india  \n",
       "3297168  apurva asrani calls alia bhatts mother soni ra...  \n",
       "3297169  kangana ranaut gets a doll version of herself ...  \n",
       "3297170  meezaan jaffrey reminisces his childhood days ...  \n",
       "3297171  prabhas20 titled as radhe shyam prabhas and po...  \n",
       "\n",
       "[3297172 rows x 3 columns]"
      ]
     },
     "execution_count": 19,
     "metadata": {},
     "output_type": "execute_result"
    }
   ],
   "source": [
    "df1 = pd.read_csv(\"india-news-headlines.csv\")\n",
    "df1"
   ]
  },
  {
   "cell_type": "code",
   "execution_count": 20,
   "metadata": {},
   "outputs": [
    {
     "data": {
      "text/html": [
       "<div>\n",
       "<style scoped>\n",
       "    .dataframe tbody tr th:only-of-type {\n",
       "        vertical-align: middle;\n",
       "    }\n",
       "\n",
       "    .dataframe tbody tr th {\n",
       "        vertical-align: top;\n",
       "    }\n",
       "\n",
       "    .dataframe thead th {\n",
       "        text-align: right;\n",
       "    }\n",
       "</style>\n",
       "<table border=\"1\" class=\"dataframe\">\n",
       "  <thead>\n",
       "    <tr style=\"text-align: right;\">\n",
       "      <th></th>\n",
       "      <th>publish_date</th>\n",
       "    </tr>\n",
       "  </thead>\n",
       "  <tbody>\n",
       "    <tr>\n",
       "      <td>count</td>\n",
       "      <td>3.297172e+06</td>\n",
       "    </tr>\n",
       "    <tr>\n",
       "      <td>mean</td>\n",
       "      <td>2.012470e+07</td>\n",
       "    </tr>\n",
       "    <tr>\n",
       "      <td>std</td>\n",
       "      <td>4.896213e+04</td>\n",
       "    </tr>\n",
       "    <tr>\n",
       "      <td>min</td>\n",
       "      <td>2.001010e+07</td>\n",
       "    </tr>\n",
       "    <tr>\n",
       "      <td>25%</td>\n",
       "      <td>2.009101e+07</td>\n",
       "    </tr>\n",
       "    <tr>\n",
       "      <td>50%</td>\n",
       "      <td>2.013071e+07</td>\n",
       "    </tr>\n",
       "    <tr>\n",
       "      <td>75%</td>\n",
       "      <td>2.016110e+07</td>\n",
       "    </tr>\n",
       "    <tr>\n",
       "      <td>max</td>\n",
       "      <td>2.020063e+07</td>\n",
       "    </tr>\n",
       "  </tbody>\n",
       "</table>\n",
       "</div>"
      ],
      "text/plain": [
       "       publish_date\n",
       "count  3.297172e+06\n",
       "mean   2.012470e+07\n",
       "std    4.896213e+04\n",
       "min    2.001010e+07\n",
       "25%    2.009101e+07\n",
       "50%    2.013071e+07\n",
       "75%    2.016110e+07\n",
       "max    2.020063e+07"
      ]
     },
     "execution_count": 20,
     "metadata": {},
     "output_type": "execute_result"
    }
   ],
   "source": [
    "df1.describe()"
   ]
  },
  {
   "cell_type": "code",
   "execution_count": 21,
   "metadata": {},
   "outputs": [],
   "source": [
    "df1['publish_date'] = pd.to_datetime(df1['publish_date'],format='%Y%m%d')"
   ]
  },
  {
   "cell_type": "code",
   "execution_count": 22,
   "metadata": {},
   "outputs": [
    {
     "data": {
      "image/png": "[encoded data removed]",
      "text/plain": [
       "<Figure size 432x288 with 1 Axes>"
      ]
     },
     "metadata": {
      "needs_background": "light"
     },
     "output_type": "display_data"
    }
   ],
   "source": [
    "df1['headline_text'].str.len().hist()\n",
    "plt.show()"
   ]
  },
  {
   "cell_type": "code",
   "execution_count": 23,
   "metadata": {},
   "outputs": [],
   "source": [
    "df2 = df1[df1['publish_date']> '2005-06-29'].reset_index(drop=True)"
   ]
  },
  {
   "cell_type": "code",
   "execution_count": 24,
   "metadata": {},
   "outputs": [
    {
     "data": {
      "text/plain": [
       "(2941736, 3)"
      ]
     },
     "execution_count": 24,
     "metadata": {},
     "output_type": "execute_result"
    }
   ],
   "source": [
    "df2.shape"
   ]
  },
  {
   "cell_type": "code",
   "execution_count": 25,
   "metadata": {},
   "outputs": [],
   "source": [
    "headline_cats = [cat for cat in df2['headline_category'].value_counts().index if 'business' in cat]"
   ]
  },
  {
   "cell_type": "code",
   "execution_count": 26,
   "metadata": {},
   "outputs": [
    {
     "data": {
      "text/plain": [
       "['business.india-business',\n",
       " 'business.international-business',\n",
       " 'business.personal-finance',\n",
       " 'business',\n",
       " 'india-business-news-wire',\n",
       " 'business.faqs.income-tax-faqs',\n",
       " 'business.mf-simplified.mf-news',\n",
       " 'business.mf-simplified.jargon-busters.debt',\n",
       " 'business.faqs.aadhar-faqs',\n",
       " 'business.mf-simplified.jargon-busters.equity',\n",
       " 'business.mf-simplified.faq',\n",
       " 'business.faqs.gst-faqs']"
      ]
     },
     "execution_count": 26,
     "metadata": {},
     "output_type": "execute_result"
    }
   ],
   "source": [
    "headline_cats"
   ]
  },
  {
   "cell_type": "code",
   "execution_count": 27,
   "metadata": {},
   "outputs": [],
   "source": [
    "df2 = df2.loc[df2['headline_category'].str.find('business') !=-1].reset_index(drop=True)"
   ]
  },
  {
   "cell_type": "code",
   "execution_count": 28,
   "metadata": {},
   "outputs": [
    {
     "data": {
      "text/html": [
       "<div>\n",
       "<style scoped>\n",
       "    .dataframe tbody tr th:only-of-type {\n",
       "        vertical-align: middle;\n",
       "    }\n",
       "\n",
       "    .dataframe tbody tr th {\n",
       "        vertical-align: top;\n",
       "    }\n",
       "\n",
       "    .dataframe thead th {\n",
       "        text-align: right;\n",
       "    }\n",
       "</style>\n",
       "<table border=\"1\" class=\"dataframe\">\n",
       "  <thead>\n",
       "    <tr style=\"text-align: right;\">\n",
       "      <th></th>\n",
       "      <th>publish_date</th>\n",
       "      <th>headline_category</th>\n",
       "      <th>headline_text</th>\n",
       "    </tr>\n",
       "  </thead>\n",
       "  <tbody>\n",
       "    <tr>\n",
       "      <td>0</td>\n",
       "      <td>2005-07-01</td>\n",
       "      <td>business.india-business</td>\n",
       "      <td>BK Birla group pens Rs 1;000-cr investment plan</td>\n",
       "    </tr>\n",
       "    <tr>\n",
       "      <td>1</td>\n",
       "      <td>2005-07-01</td>\n",
       "      <td>business.india-business</td>\n",
       "      <td>Acquisitions are way forward: Paul</td>\n",
       "    </tr>\n",
       "    <tr>\n",
       "      <td>2</td>\n",
       "      <td>2005-07-01</td>\n",
       "      <td>business.india-business</td>\n",
       "      <td>Central PSUs get purchase preference in govt o...</td>\n",
       "    </tr>\n",
       "    <tr>\n",
       "      <td>3</td>\n",
       "      <td>2005-07-01</td>\n",
       "      <td>business.india-business</td>\n",
       "      <td>Govt removes hurdles for GM to buy Daewoo Indi...</td>\n",
       "    </tr>\n",
       "    <tr>\n",
       "      <td>4</td>\n",
       "      <td>2005-07-01</td>\n",
       "      <td>business.india-business</td>\n",
       "      <td>Anil Ambani to make it big in entertainment</td>\n",
       "    </tr>\n",
       "  </tbody>\n",
       "</table>\n",
       "</div>"
      ],
      "text/plain": [
       "  publish_date        headline_category  \\\n",
       "0   2005-07-01  business.india-business   \n",
       "1   2005-07-01  business.india-business   \n",
       "2   2005-07-01  business.india-business   \n",
       "3   2005-07-01  business.india-business   \n",
       "4   2005-07-01  business.india-business   \n",
       "\n",
       "                                       headline_text  \n",
       "0    BK Birla group pens Rs 1;000-cr investment plan  \n",
       "1                 Acquisitions are way forward: Paul  \n",
       "2  Central PSUs get purchase preference in govt o...  \n",
       "3  Govt removes hurdles for GM to buy Daewoo Indi...  \n",
       "4        Anil Ambani to make it big in entertainment  "
      ]
     },
     "execution_count": 28,
     "metadata": {},
     "output_type": "execute_result"
    }
   ],
   "source": [
    "df2.head()"
   ]
  },
  {
   "cell_type": "code",
   "execution_count": 29,
   "metadata": {},
   "outputs": [],
   "source": [
    "df3 = df2.groupby('publish_date').agg({'headline_category':'first','headline_text': '. '.join}).reset_index()"
   ]
  },
  {
   "cell_type": "code",
   "execution_count": 30,
   "metadata": {},
   "outputs": [
    {
     "data": {
      "text/plain": [
       "<bound method NDFrame.head of      publish_date        headline_category  \\\n",
       "0      2005-07-01  business.india-business   \n",
       "1      2005-07-02  business.india-business   \n",
       "2      2005-07-03  business.india-business   \n",
       "3      2005-07-04  business.india-business   \n",
       "4      2005-07-05  business.india-business   \n",
       "...           ...                      ...   \n",
       "5432   2020-06-26  business.india-business   \n",
       "5433   2020-06-27  business.india-business   \n",
       "5434   2020-06-28  business.india-business   \n",
       "5435   2020-06-29  business.india-business   \n",
       "5436   2020-06-30  business.india-business   \n",
       "\n",
       "                                          headline_text  \n",
       "0     BK Birla group pens Rs 1;000-cr investment pla...  \n",
       "1     Retail boom triggers ancillary industry growth...  \n",
       "2     India ideal for KPO industry. Airlines facing ...  \n",
       "3     Global CEOs; Indian owners: Why the strains ar...  \n",
       "4     Finolex Cables to forward integrate operations...  \n",
       "...                                                 ...  \n",
       "5432  Preferential offers get more pricing options f...  \n",
       "5433  'Ashok Leyland independent biz; won't be impac...  \n",
       "5434  Ordinance to let RBI revive banks without mora...  \n",
       "5435  Techtonic Review: The OnePlus 8 and OnePlus 8 ...  \n",
       "5436  Solar plan to make Leh self-reliant hanging fi...  \n",
       "\n",
       "[5437 rows x 3 columns]>"
      ]
     },
     "execution_count": 30,
     "metadata": {},
     "output_type": "execute_result"
    }
   ],
   "source": [
    "df3.head"
   ]
  },
  {
   "cell_type": "code",
   "execution_count": 31,
   "metadata": {},
   "outputs": [
    {
     "name": "stderr",
     "output_type": "stream",
     "text": [
      "C:\\ProgramData\\Anaconda3\\lib\\site-packages\\ipykernel_launcher.py:1: UserWarning: Pandas doesn't allow columns to be created via a new attribute name - see https://pandas.pydata.org/pandas-docs/stable/indexing.html#attribute-access\n",
      "  \"\"\"Entry point for launching an IPython kernel.\n"
     ]
    },
    {
     "data": {
      "text/html": [
       "<div>\n",
       "<style scoped>\n",
       "    .dataframe tbody tr th:only-of-type {\n",
       "        vertical-align: middle;\n",
       "    }\n",
       "\n",
       "    .dataframe tbody tr th {\n",
       "        vertical-align: top;\n",
       "    }\n",
       "\n",
       "    .dataframe thead th {\n",
       "        text-align: right;\n",
       "    }\n",
       "</style>\n",
       "<table border=\"1\" class=\"dataframe\">\n",
       "  <thead>\n",
       "    <tr style=\"text-align: right;\">\n",
       "      <th>Symbols</th>\n",
       "      <th>AAPL</th>\n",
       "      <th>GE</th>\n",
       "      <th>GOOG</th>\n",
       "      <th>IBM</th>\n",
       "      <th>MSFT</th>\n",
       "    </tr>\n",
       "    <tr>\n",
       "      <th>Date</th>\n",
       "      <th></th>\n",
       "      <th></th>\n",
       "      <th></th>\n",
       "      <th></th>\n",
       "      <th></th>\n",
       "    </tr>\n",
       "  </thead>\n",
       "  <tbody>\n",
       "    <tr>\n",
       "      <td>2015-10-21</td>\n",
       "      <td>26.281809</td>\n",
       "      <td>24.426851</td>\n",
       "      <td>642.609985</td>\n",
       "      <td>112.848816</td>\n",
       "      <td>42.895134</td>\n",
       "    </tr>\n",
       "    <tr>\n",
       "      <td>2015-10-22</td>\n",
       "      <td>26.683798</td>\n",
       "      <td>25.044931</td>\n",
       "      <td>651.789978</td>\n",
       "      <td>115.387383</td>\n",
       "      <td>43.649437</td>\n",
       "    </tr>\n",
       "    <tr>\n",
       "      <td>2015-10-23</td>\n",
       "      <td>27.510878</td>\n",
       "      <td>24.985662</td>\n",
       "      <td>702.000000</td>\n",
       "      <td>115.859840</td>\n",
       "      <td>48.048008</td>\n",
       "    </tr>\n",
       "    <tr>\n",
       "      <td>2015-10-26</td>\n",
       "      <td>26.632969</td>\n",
       "      <td>25.019533</td>\n",
       "      <td>712.780029</td>\n",
       "      <td>115.042992</td>\n",
       "      <td>49.302139</td>\n",
       "    </tr>\n",
       "    <tr>\n",
       "      <td>2015-10-27</td>\n",
       "      <td>26.464319</td>\n",
       "      <td>24.943325</td>\n",
       "      <td>708.489990</td>\n",
       "      <td>110.398384</td>\n",
       "      <td>48.793213</td>\n",
       "    </tr>\n",
       "    <tr>\n",
       "      <td>2015-10-28</td>\n",
       "      <td>27.554773</td>\n",
       "      <td>24.884060</td>\n",
       "      <td>712.950012</td>\n",
       "      <td>112.776749</td>\n",
       "      <td>49.056763</td>\n",
       "    </tr>\n",
       "    <tr>\n",
       "      <td>2015-10-29</td>\n",
       "      <td>27.845867</td>\n",
       "      <td>24.841722</td>\n",
       "      <td>716.919983</td>\n",
       "      <td>112.552536</td>\n",
       "      <td>48.493317</td>\n",
       "    </tr>\n",
       "    <tr>\n",
       "      <td>2015-10-30</td>\n",
       "      <td>27.607912</td>\n",
       "      <td>24.486118</td>\n",
       "      <td>710.809998</td>\n",
       "      <td>112.176132</td>\n",
       "      <td>47.838978</td>\n",
       "    </tr>\n",
       "    <tr>\n",
       "      <td>2015-11-02</td>\n",
       "      <td>27.996040</td>\n",
       "      <td>24.892523</td>\n",
       "      <td>721.109985</td>\n",
       "      <td>112.408371</td>\n",
       "      <td>48.384258</td>\n",
       "    </tr>\n",
       "    <tr>\n",
       "      <td>2015-11-03</td>\n",
       "      <td>28.317165</td>\n",
       "      <td>25.053396</td>\n",
       "      <td>722.159973</td>\n",
       "      <td>113.617569</td>\n",
       "      <td>49.211269</td>\n",
       "    </tr>\n",
       "  </tbody>\n",
       "</table>\n",
       "</div>"
      ],
      "text/plain": [
       "Symbols          AAPL         GE        GOOG         IBM       MSFT\n",
       "Date                                                               \n",
       "2015-10-21  26.281809  24.426851  642.609985  112.848816  42.895134\n",
       "2015-10-22  26.683798  25.044931  651.789978  115.387383  43.649437\n",
       "2015-10-23  27.510878  24.985662  702.000000  115.859840  48.048008\n",
       "2015-10-26  26.632969  25.019533  712.780029  115.042992  49.302139\n",
       "2015-10-27  26.464319  24.943325  708.489990  110.398384  48.793213\n",
       "2015-10-28  27.554773  24.884060  712.950012  112.776749  49.056763\n",
       "2015-10-29  27.845867  24.841722  716.919983  112.552536  48.493317\n",
       "2015-10-30  27.607912  24.486118  710.809998  112.176132  47.838978\n",
       "2015-11-02  27.996040  24.892523  721.109985  112.408371  48.384258\n",
       "2015-11-03  28.317165  25.053396  722.159973  113.617569  49.211269"
      ]
     },
     "execution_count": 31,
     "metadata": {},
     "output_type": "execute_result"
    }
   ],
   "source": [
    "df.comp = web.DataReader(['AAPL', 'GE', 'GOOG', 'IBM', 'MSFT'], 'yahoo')['Adj Close']\n",
    "df.comp.head(10)"
   ]
  },
  {
   "cell_type": "code",
   "execution_count": 32,
   "metadata": {},
   "outputs": [
    {
     "data": {
      "text/html": [
       "<div>\n",
       "<style scoped>\n",
       "    .dataframe tbody tr th:only-of-type {\n",
       "        vertical-align: middle;\n",
       "    }\n",
       "\n",
       "    .dataframe tbody tr th {\n",
       "        vertical-align: top;\n",
       "    }\n",
       "\n",
       "    .dataframe thead th {\n",
       "        text-align: right;\n",
       "    }\n",
       "</style>\n",
       "<table border=\"1\" class=\"dataframe\">\n",
       "  <thead>\n",
       "    <tr style=\"text-align: right;\">\n",
       "      <th>Symbols</th>\n",
       "      <th>AAPL</th>\n",
       "      <th>GE</th>\n",
       "      <th>GOOG</th>\n",
       "      <th>IBM</th>\n",
       "      <th>MSFT</th>\n",
       "    </tr>\n",
       "    <tr>\n",
       "      <th>Date</th>\n",
       "      <th></th>\n",
       "      <th></th>\n",
       "      <th></th>\n",
       "      <th></th>\n",
       "      <th></th>\n",
       "    </tr>\n",
       "  </thead>\n",
       "  <tbody>\n",
       "    <tr>\n",
       "      <td>2015-10-21</td>\n",
       "      <td>NaN</td>\n",
       "      <td>NaN</td>\n",
       "      <td>NaN</td>\n",
       "      <td>NaN</td>\n",
       "      <td>NaN</td>\n",
       "    </tr>\n",
       "    <tr>\n",
       "      <td>2015-10-22</td>\n",
       "      <td>0.015295</td>\n",
       "      <td>0.025303</td>\n",
       "      <td>0.014285</td>\n",
       "      <td>0.022495</td>\n",
       "      <td>0.017585</td>\n",
       "    </tr>\n",
       "    <tr>\n",
       "      <td>2015-10-23</td>\n",
       "      <td>0.030996</td>\n",
       "      <td>-0.002367</td>\n",
       "      <td>0.077034</td>\n",
       "      <td>0.004095</td>\n",
       "      <td>0.100770</td>\n",
       "    </tr>\n",
       "    <tr>\n",
       "      <td>2015-10-26</td>\n",
       "      <td>-0.031911</td>\n",
       "      <td>0.001356</td>\n",
       "      <td>0.015356</td>\n",
       "      <td>-0.007050</td>\n",
       "      <td>0.026102</td>\n",
       "    </tr>\n",
       "    <tr>\n",
       "      <td>2015-10-27</td>\n",
       "      <td>-0.006332</td>\n",
       "      <td>-0.003046</td>\n",
       "      <td>-0.006019</td>\n",
       "      <td>-0.040373</td>\n",
       "      <td>-0.010323</td>\n",
       "    </tr>\n",
       "    <tr>\n",
       "      <td>2015-10-28</td>\n",
       "      <td>0.041205</td>\n",
       "      <td>-0.002376</td>\n",
       "      <td>0.006295</td>\n",
       "      <td>0.021543</td>\n",
       "      <td>0.005401</td>\n",
       "    </tr>\n",
       "    <tr>\n",
       "      <td>2015-10-29</td>\n",
       "      <td>0.010564</td>\n",
       "      <td>-0.001701</td>\n",
       "      <td>0.005568</td>\n",
       "      <td>-0.001988</td>\n",
       "      <td>-0.011486</td>\n",
       "    </tr>\n",
       "    <tr>\n",
       "      <td>2015-10-30</td>\n",
       "      <td>-0.008545</td>\n",
       "      <td>-0.014315</td>\n",
       "      <td>-0.008523</td>\n",
       "      <td>-0.003344</td>\n",
       "      <td>-0.013493</td>\n",
       "    </tr>\n",
       "    <tr>\n",
       "      <td>2015-11-02</td>\n",
       "      <td>0.014059</td>\n",
       "      <td>0.016597</td>\n",
       "      <td>0.014490</td>\n",
       "      <td>0.002070</td>\n",
       "      <td>0.011398</td>\n",
       "    </tr>\n",
       "    <tr>\n",
       "      <td>2015-11-03</td>\n",
       "      <td>0.011470</td>\n",
       "      <td>0.006463</td>\n",
       "      <td>0.001456</td>\n",
       "      <td>0.010757</td>\n",
       "      <td>0.017093</td>\n",
       "    </tr>\n",
       "  </tbody>\n",
       "</table>\n",
       "</div>"
      ],
      "text/plain": [
       "Symbols         AAPL        GE      GOOG       IBM      MSFT\n",
       "Date                                                        \n",
       "2015-10-21       NaN       NaN       NaN       NaN       NaN\n",
       "2015-10-22  0.015295  0.025303  0.014285  0.022495  0.017585\n",
       "2015-10-23  0.030996 -0.002367  0.077034  0.004095  0.100770\n",
       "2015-10-26 -0.031911  0.001356  0.015356 -0.007050  0.026102\n",
       "2015-10-27 -0.006332 -0.003046 -0.006019 -0.040373 -0.010323\n",
       "2015-10-28  0.041205 -0.002376  0.006295  0.021543  0.005401\n",
       "2015-10-29  0.010564 -0.001701  0.005568 -0.001988 -0.011486\n",
       "2015-10-30 -0.008545 -0.014315 -0.008523 -0.003344 -0.013493\n",
       "2015-11-02  0.014059  0.016597  0.014490  0.002070  0.011398\n",
       "2015-11-03  0.011470  0.006463  0.001456  0.010757  0.017093"
      ]
     },
     "execution_count": 32,
     "metadata": {},
     "output_type": "execute_result"
    }
   ],
   "source": [
    "retscomp = df.comp.pct_change()\n",
    "corr = retscomp.corr()\n",
    "retscomp.head(10)"
   ]
  },
  {
   "cell_type": "code",
   "execution_count": 33,
   "metadata": {},
   "outputs": [
    {
     "data": {
      "image/png": "[encoded data removed]",
      "text/plain": [
       "<Figure size 432x288 with 2 Axes>"
      ]
     },
     "metadata": {
      "needs_background": "light"
     },
     "output_type": "display_data"
    }
   ],
   "source": [
    "plt.imshow(corr, cmap = 'seismic', interpolation = 'none')\n",
    "plt.colorbar()\n",
    "plt.xticks(range(len(corr)), corr.columns)\n",
    "plt.yticks(range(len(corr)), corr.columns);"
   ]
  },
  {
   "cell_type": "code",
   "execution_count": 34,
   "metadata": {},
   "outputs": [
    {
     "data": {
      "text/plain": [
       "0   NaN\n",
       "1   NaN\n",
       "2   NaN\n",
       "3   NaN\n",
       "4   NaN\n",
       "5   NaN\n",
       "6   NaN\n",
       "7   NaN\n",
       "8   NaN\n",
       "9   NaN\n",
       "Name: Adj Close, dtype: float64"
      ]
     },
     "execution_count": 34,
     "metadata": {},
     "output_type": "execute_result"
    }
   ],
   "source": [
    "close_px = df['Adj Close']\n",
    "mavg = close_px.rolling(window = 100).mean()\n",
    "mavg.head(10)"
   ]
  },
  {
   "cell_type": "code",
   "execution_count": 35,
   "metadata": {},
   "outputs": [
    {
     "data": {
      "image/png": "[encoded data removed]",
      "text/plain": [
       "<Figure size 432x288 with 1 Axes>"
      ]
     },
     "metadata": {
      "needs_background": "light"
     },
     "output_type": "display_data"
    }
   ],
   "source": [
    "close_px.plot(label = 'AAPL')\n",
    "mavg.plot(label = 'mavg')\n",
    "plt.legend()\n",
    "plt.show()"
   ]
  },
  {
   "cell_type": "code",
   "execution_count": 36,
   "metadata": {},
   "outputs": [
    {
     "data": {
      "image/png": "[encoded data removed]",
      "text/plain": [
       "<Figure size 432x288 with 1 Axes>"
      ]
     },
     "metadata": {
      "needs_background": "light"
     },
     "output_type": "display_data"
    }
   ],
   "source": [
    "rets = close_px / close_px.shift(1) - 1\n",
    "rets.plot(label = 'return')\n",
    "plt.show()"
   ]
  },
  {
   "cell_type": "code",
   "execution_count": 37,
   "metadata": {},
   "outputs": [
    {
     "data": {
      "image/png": "[encoded data removed]",
      "text/plain": [
       "<Figure size 432x288 with 1 Axes>"
      ]
     },
     "metadata": {
      "needs_background": "light"
     },
     "output_type": "display_data"
    }
   ],
   "source": [
    "df1['headline_text'].str.len().hist()\n",
    "plt.show()\n"
   ]
  },
  {
   "cell_type": "code",
   "execution_count": 38,
   "metadata": {},
   "outputs": [
    {
     "name": "stderr",
     "output_type": "stream",
     "text": [
      "[nltk_data] Downloading package stopwords to\n",
      "[nltk_data]     C:\\Users\\alipta\\AppData\\Roaming\\nltk_data...\n",
      "[nltk_data]   Unzipping corpora\\stopwords.zip.\n"
     ]
    }
   ],
   "source": [
    "import nltk\n",
    "from nltk.corpus import stopwords\n",
    "nltk.download('stopwords')\n",
    "stop = set(stopwords.words('english'))\n"
   ]
  },
  {
   "cell_type": "code",
   "execution_count": 39,
   "metadata": {},
   "outputs": [],
   "source": [
    "corpus = []\n",
    "new = df1['headline_text'].str.split()\n",
    "new = new.values.tolist()\n",
    "corpus = [word for i in new for word in i]"
   ]
  },
  {
   "cell_type": "code",
   "execution_count": 40,
   "metadata": {},
   "outputs": [],
   "source": [
    "from collections import defaultdict\n",
    "\n",
    "dict = defaultdict(int)\n",
    "for word in corpus:\n",
    "    if word in stop:\n",
    "        dict[word]+=1"
   ]
  },
  {
   "cell_type": "code",
   "execution_count": 41,
   "metadata": {},
   "outputs": [],
   "source": [
    "from collections import Counter\n",
    "\n",
    "counter = Counter(corpus)\n",
    "most = counter.most_common()\n",
    "x, y = [], []\n",
    "for word, count in most[:40]:\n",
    "    if (word not in stop):\n",
    "        x.append(word)\n",
    "        y.append(count)"
   ]
  },
  {
   "cell_type": "code",
   "execution_count": 42,
   "metadata": {},
   "outputs": [
    {
     "data": {
      "image/png": "[encoded data removed]",
      "text/plain": [
       "<Figure size 432x288 with 1 Axes>"
      ]
     },
     "metadata": {
      "needs_background": "light"
     },
     "output_type": "display_data"
    }
   ],
   "source": [
    "sns.barplot(x = y , y = x)\n",
    "plt.show()"
   ]
  },
  {
   "cell_type": "code",
   "execution_count": null,
   "metadata": {},
   "outputs": [],
   "source": []
  }
 ],
 "metadata": {
  "kernelspec": {
   "display_name": "Python 3",
   "language": "python",
   "name": "python3"
  },
  "language_info": {
   "codemirror_mode": {
    "name": "ipython",
    "version": 3
   },
   "file_extension": ".py",
   "mimetype": "text/x-python",
   "name": "python",
   "nbconvert_exporter": "python",
   "pygments_lexer": "ipython3",
   "version": "3.7.4"
  }
 },
 "nbformat": 4,
 "nbformat_minor": 2
}
